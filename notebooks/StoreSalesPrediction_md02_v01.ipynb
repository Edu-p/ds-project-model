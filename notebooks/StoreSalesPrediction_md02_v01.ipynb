{
 "cells": [
  {
   "cell_type": "markdown",
   "metadata": {
    "pycharm": {
     "name": "#%%\n"
    }
   },
   "source": [
    "# 0.0 Imports"
   ]
  },
  {
   "cell_type": "code",
   "execution_count": 21,
   "metadata": {
    "ExecuteTime": {
     "end_time": "2021-04-14T14:52:18.801280Z",
     "start_time": "2021-04-14T14:52:18.798278Z"
    }
   },
   "outputs": [],
   "source": [
    "import pandas as pd\n",
    "import inflection\n",
    "import math\n",
    "import numpy as np"
   ]
  },
  {
   "cell_type": "markdown",
   "metadata": {
    "heading_collapsed": true
   },
   "source": [
    "## 0.1. Helper Functions"
   ]
  },
  {
   "cell_type": "markdown",
   "metadata": {
    "heading_collapsed": true
   },
   "source": [
    "## 0.2.Loading data "
   ]
  },
  {
   "cell_type": "code",
   "execution_count": 4,
   "metadata": {
    "ExecuteTime": {
     "end_time": "2021-04-14T14:41:00.054032Z",
     "start_time": "2021-04-14T14:40:56.733790Z"
    },
    "hidden": true
   },
   "outputs": [],
   "source": [
    "df_sales_raw = pd.read_csv( 'C:/Users/PICHAU/Desktop/AnaliseDeDados/DsEmProd/datasets/train.csv', low_memory=False)\n",
    "df_store_raw = pd.read_csv( 'C:/Users/PICHAU/Desktop/AnaliseDeDados/DsEmProd/datasets/store.csv', low_memory=False)\n",
    "\n",
    "# merge\n",
    "df_raw = pd.merge( df_sales_raw, df_store_raw, how='left', on='Store' )"
   ]
  },
  {
   "cell_type": "markdown",
   "metadata": {},
   "source": [
    "# 1.0 Descriçao dos dados"
   ]
  },
  {
   "cell_type": "code",
   "execution_count": 5,
   "metadata": {
    "ExecuteTime": {
     "end_time": "2021-04-14T14:41:03.889317Z",
     "start_time": "2021-04-14T14:41:03.797309Z"
    },
    "code_folding": []
   },
   "outputs": [],
   "source": [
    "# Sempre que mudar de secao da um .copy(), pois ajuda quando a gente ta navegando em um notebook mt grande\n",
    "df1 = df_raw.copy()"
   ]
  },
  {
   "cell_type": "markdown",
   "metadata": {},
   "source": [
    "## 1.1. Rename Columns"
   ]
  },
  {
   "cell_type": "code",
   "execution_count": 6,
   "metadata": {
    "ExecuteTime": {
     "end_time": "2021-04-14T14:41:14.011065Z",
     "start_time": "2021-04-14T14:41:14.006064Z"
    }
   },
   "outputs": [
    {
     "data": {
      "text/plain": "Index(['Store', 'DayOfWeek', 'Date', 'Sales', 'Customers', 'Open', 'Promo',\n       'StateHoliday', 'SchoolHoliday', 'StoreType', 'Assortment',\n       'CompetitionDistance', 'CompetitionOpenSinceMonth',\n       'CompetitionOpenSinceYear', 'Promo2', 'Promo2SinceWeek',\n       'Promo2SinceYear', 'PromoInterval'],\n      dtype='object')"
     },
     "execution_count": 6,
     "metadata": {},
     "output_type": "execute_result"
    }
   ],
   "source": [
    "df1.columns\n"
   ]
  },
  {
   "cell_type": "code",
   "execution_count": 7,
   "metadata": {},
   "outputs": [
    {
     "data": {
      "text/plain": "Index(['store', 'day_of_week', 'date', 'sales', 'customers', 'open', 'promo',\n       'state_holiday', 'school_holiday', 'store_type', 'assortment',\n       'competition_distance', 'competition_open_since_month',\n       'competition_open_since_year', 'promo2', 'promo2_since_week',\n       'promo2_since_year', 'promo_interval'],\n      dtype='object')"
     },
     "execution_count": 7,
     "metadata": {},
     "output_type": "execute_result"
    }
   ],
   "source": [
    "cols_old = ['Store', 'DayOfWeek', 'Date', 'Sales', 'Customers', 'Open', 'Promo',\n",
    "       'StateHoliday', 'SchoolHoliday', 'StoreType', 'Assortment',\n",
    "       'CompetitionDistance', 'CompetitionOpenSinceMonth',\n",
    "       'CompetitionOpenSinceYear', 'Promo2', 'Promo2SinceWeek',\n",
    "       'Promo2SinceYear', 'PromoInterval']\n",
    "\n",
    "snakecase = lambda x: inflection.underscore( x  )\n",
    "\n",
    "#fazer o mapeamento da nossa funçao snakecase em todas as minhas cols_old\n",
    "cols_new = list( map( snakecase, cols_old ) )\n",
    "\n",
    "# renaming\n",
    "df1.columns = cols_new\n",
    "\n",
    "df1.columns"
   ]
  },
  {
   "cell_type": "markdown",
   "metadata": {},
   "source": [
    "## 1.2. Data Dimensions"
   ]
  },
  {
   "cell_type": "code",
   "metadata": {
    "pycharm": {
     "name": "#%%\n"
    }
   },
   "source": [
    "print( 'number of Rows: {}'.format( df1.shape[0] ) )\n",
    "print( 'number of Rows: {}'.format( df1.shape[1] ) )\n"
   ],
   "execution_count": 8,
   "outputs": [
    {
     "name": "stdout",
     "output_type": "stream",
     "text": [
      "number of Rows: 1017209\n",
      "number of Rows: 18\n"
     ]
    }
   ]
  },
  {
   "cell_type": "markdown",
   "metadata": {},
   "source": [
    "## 1.3. Data Types"
   ]
  },
  {
   "cell_type": "code",
   "metadata": {
    "pycharm": {
     "name": "#%%\n"
    }
   },
   "source": [
    "df1['date'] = pd.to_datetime(df1['date'])\n",
    "df1.dtypes"
   ],
   "execution_count": 9,
   "outputs": [
    {
     "data": {
      "text/plain": "store                                    int64\nday_of_week                              int64\ndate                            datetime64[ns]\nsales                                    int64\ncustomers                                int64\nopen                                     int64\npromo                                    int64\nstate_holiday                           object\nschool_holiday                           int64\nstore_type                              object\nassortment                              object\ncompetition_distance                   float64\ncompetition_open_since_month           float64\ncompetition_open_since_year            float64\npromo2                                   int64\npromo2_since_week                      float64\npromo2_since_year                      float64\npromo_interval                          object\ndtype: object"
     },
     "execution_count": 9,
     "metadata": {},
     "output_type": "execute_result"
    }
   ]
  },
  {
   "cell_type": "markdown",
   "metadata": {},
   "source": [
    "## 1.4. Check NA"
   ]
  },
  {
   "cell_type": "code",
   "metadata": {
    "pycharm": {
     "name": "#%%\n"
    }
   },
   "source": [
    "df1.isna().sum()"
   ],
   "execution_count": 10,
   "outputs": [
    {
     "data": {
      "text/plain": "store                                0\nday_of_week                          0\ndate                                 0\nsales                                0\ncustomers                            0\nopen                                 0\npromo                                0\nstate_holiday                        0\nschool_holiday                       0\nstore_type                           0\nassortment                           0\ncompetition_distance              2642\ncompetition_open_since_month    323348\ncompetition_open_since_year     323348\npromo2                               0\npromo2_since_week               508031\npromo2_since_year               508031\npromo_interval                  508031\ndtype: int64"
     },
     "execution_count": 10,
     "metadata": {},
     "output_type": "execute_result"
    }
   ]
  },
  {
   "cell_type": "markdown",
   "metadata": {},
   "source": [
    "## 1.5. Fillout NA"
   ]
  },
  {
   "cell_type": "code",
   "execution_count": 11,
   "outputs": [],
   "source": [
    "# competition_distance( vamos supor que ta na pq a distancia é mt grande de outra loja )\n",
    "df1['competition_distance'] = df1['competition_distance'].apply( lambda x: (df1['competition_distance'].max())*10 if math.isnan( x ) else x )\n",
    "\n",
    "\n",
    "# competition_open_since_month( vamos copiar a data de venda da loja para essa coluna )\n",
    "df1['competition_open_since_month'] = df1.apply ( lambda x: x['date'].month if math.isnan( x['competition_open_since_month'] ) else x['competition_open_since_month'], axis=1 )\n",
    "\n",
    "\n",
    "# competition_open_since_year\n",
    "df1['competition_open_since_year'] = df1.apply ( lambda x: x['date'].year if math.isnan( x['competition_open_since_year'] ) else x['competition_open_since_year'], axis=1 )\n",
    "\n",
    "\n",
    "# promo2_since_week\n",
    "df1['promo2_since_week'] = df1.apply ( lambda x: x['date'].week if math.isnan( x['promo2_since_week'] ) else x['promo2_since_week'], axis=1 )\n",
    "\n",
    "\n",
    "\n",
    "# promo2_since_year\n",
    "df1['promo2_since_year'] = df1.apply ( lambda x: x['date'].year if math.isnan( x['promo2_since_year'] ) else x['promo2_since_year'], axis=1 )\n",
    "\n",
    "# promo_interval\n",
    "month_map = {1: 'Jan',  2: 'Fev',  3: 'Mar',  4: 'Apr',  5: 'May',  6: 'Jun',  7: 'Jul',  8: 'Aug',  9: 'Sep',  10: 'Oct', 11: 'Nov', 12: 'Dec'}\n",
    "\n",
    "df1['promo_interval'].fillna(0, inplace=True )\n",
    "\n",
    "df1['month_map'] = df1['date'].dt.month.map( month_map )\n",
    "\n",
    "df1['is_promo'] = df1[['promo_interval', 'month_map']].apply( lambda x: 0 if x['promo_interval'] == 0 else 1 if x['month_map'] in x['promo_interval'].split( ',' ) else 0, axis=1 )"
   ],
   "metadata": {
    "collapsed": false,
    "pycharm": {
     "name": "#%%\n"
    }
   }
  },
  {
   "cell_type": "code",
   "execution_count": 12,
   "outputs": [
    {
     "data": {
      "text/plain": "store                           0\nday_of_week                     0\ndate                            0\nsales                           0\ncustomers                       0\nopen                            0\npromo                           0\nstate_holiday                   0\nschool_holiday                  0\nstore_type                      0\nassortment                      0\ncompetition_distance            0\ncompetition_open_since_month    0\ncompetition_open_since_year     0\npromo2                          0\npromo2_since_week               0\npromo2_since_year               0\npromo_interval                  0\nmonth_map                       0\nis_promo                        0\ndtype: int64"
     },
     "execution_count": 12,
     "metadata": {},
     "output_type": "execute_result"
    }
   ],
   "source": [
    "\n",
    "df1.isna().sum()"
   ],
   "metadata": {
    "collapsed": false,
    "pycharm": {
     "name": "#%%\n"
    }
   }
  },
  {
   "cell_type": "code",
   "execution_count": 13,
   "outputs": [
    {
     "data": {
      "text/plain": "758600.0"
     },
     "execution_count": 13,
     "metadata": {},
     "output_type": "execute_result"
    }
   ],
   "source": [
    "df1['competition_distance'].max()"
   ],
   "metadata": {
    "collapsed": false,
    "pycharm": {
     "name": "#%%\n"
    }
   }
  },
  {
   "cell_type": "code",
   "execution_count": 14,
   "outputs": [
    {
     "data": {
      "text/plain": "                                           491393               329649  \\\nstore                                         464                  845   \nday_of_week                                     4                    2   \ndate                          2014-04-17 00:00:00  2014-09-23 00:00:00   \nsales                                       14275                 4339   \ncustomers                                    1738                  369   \nopen                                            1                    1   \npromo                                           1                    0   \nstate_holiday                                   0                    0   \nschool_holiday                                  1                    0   \nstore_type                                      c                    d   \nassortment                                      a                    a   \ncompetition_distance                        520.0               7860.0   \ncompetition_open_since_month                  3.0                 11.0   \ncompetition_open_since_year                2009.0               2005.0   \npromo2                                          0                    1   \npromo2_since_week                            16.0                 14.0   \npromo2_since_year                          2014.0               2011.0   \npromo_interval                                  0      Jan,Apr,Jul,Oct   \nmonth_map                                     Apr                  Sep   \nis_promo                                        0                    0   \n\n                                           743850               190346  \\\nstore                                         931                  797   \nday_of_week                                     2                    3   \ndate                          2013-09-03 00:00:00  2015-02-11 00:00:00   \nsales                                        3077                 3932   \ncustomers                                     473                  395   \nopen                                            1                    1   \npromo                                           0                    0   \nstate_holiday                                   0                    0   \nschool_holiday                                  0                    0   \nstore_type                                      a                    a   \nassortment                                      c                    a   \ncompetition_distance                       1480.0               2090.0   \ncompetition_open_since_month                  9.0                 10.0   \ncompetition_open_since_year                2011.0               2012.0   \npromo2                                          1                    1   \npromo2_since_week                             1.0                 40.0   \npromo2_since_year                          2012.0               2014.0   \npromo_interval                    Jan,Apr,Jul,Oct      Jan,Apr,Jul,Oct   \nmonth_map                                     Sep                  Fev   \nis_promo                                        0                    0   \n\n                                           864563  \nstore                                         109  \nday_of_week                                     5  \ndate                          2013-05-17 00:00:00  \nsales                                        5827  \ncustomers                                     755  \nopen                                            1  \npromo                                           1  \nstate_holiday                                   0  \nschool_holiday                                  0  \nstore_type                                      a  \nassortment                                      c  \ncompetition_distance                       3300.0  \ncompetition_open_since_month                 11.0  \ncompetition_open_since_year                2010.0  \npromo2                                          0  \npromo2_since_week                            20.0  \npromo2_since_year                          2013.0  \npromo_interval                                  0  \nmonth_map                                     May  \nis_promo                                        0  ",
      "text/html": "<div>\n<style scoped>\n    .dataframe tbody tr th:only-of-type {\n        vertical-align: middle;\n    }\n\n    .dataframe tbody tr th {\n        vertical-align: top;\n    }\n\n    .dataframe thead th {\n        text-align: right;\n    }\n</style>\n<table border=\"1\" class=\"dataframe\">\n  <thead>\n    <tr style=\"text-align: right;\">\n      <th></th>\n      <th>491393</th>\n      <th>329649</th>\n      <th>743850</th>\n      <th>190346</th>\n      <th>864563</th>\n    </tr>\n  </thead>\n  <tbody>\n    <tr>\n      <th>store</th>\n      <td>464</td>\n      <td>845</td>\n      <td>931</td>\n      <td>797</td>\n      <td>109</td>\n    </tr>\n    <tr>\n      <th>day_of_week</th>\n      <td>4</td>\n      <td>2</td>\n      <td>2</td>\n      <td>3</td>\n      <td>5</td>\n    </tr>\n    <tr>\n      <th>date</th>\n      <td>2014-04-17 00:00:00</td>\n      <td>2014-09-23 00:00:00</td>\n      <td>2013-09-03 00:00:00</td>\n      <td>2015-02-11 00:00:00</td>\n      <td>2013-05-17 00:00:00</td>\n    </tr>\n    <tr>\n      <th>sales</th>\n      <td>14275</td>\n      <td>4339</td>\n      <td>3077</td>\n      <td>3932</td>\n      <td>5827</td>\n    </tr>\n    <tr>\n      <th>customers</th>\n      <td>1738</td>\n      <td>369</td>\n      <td>473</td>\n      <td>395</td>\n      <td>755</td>\n    </tr>\n    <tr>\n      <th>open</th>\n      <td>1</td>\n      <td>1</td>\n      <td>1</td>\n      <td>1</td>\n      <td>1</td>\n    </tr>\n    <tr>\n      <th>promo</th>\n      <td>1</td>\n      <td>0</td>\n      <td>0</td>\n      <td>0</td>\n      <td>1</td>\n    </tr>\n    <tr>\n      <th>state_holiday</th>\n      <td>0</td>\n      <td>0</td>\n      <td>0</td>\n      <td>0</td>\n      <td>0</td>\n    </tr>\n    <tr>\n      <th>school_holiday</th>\n      <td>1</td>\n      <td>0</td>\n      <td>0</td>\n      <td>0</td>\n      <td>0</td>\n    </tr>\n    <tr>\n      <th>store_type</th>\n      <td>c</td>\n      <td>d</td>\n      <td>a</td>\n      <td>a</td>\n      <td>a</td>\n    </tr>\n    <tr>\n      <th>assortment</th>\n      <td>a</td>\n      <td>a</td>\n      <td>c</td>\n      <td>a</td>\n      <td>c</td>\n    </tr>\n    <tr>\n      <th>competition_distance</th>\n      <td>520.0</td>\n      <td>7860.0</td>\n      <td>1480.0</td>\n      <td>2090.0</td>\n      <td>3300.0</td>\n    </tr>\n    <tr>\n      <th>competition_open_since_month</th>\n      <td>3.0</td>\n      <td>11.0</td>\n      <td>9.0</td>\n      <td>10.0</td>\n      <td>11.0</td>\n    </tr>\n    <tr>\n      <th>competition_open_since_year</th>\n      <td>2009.0</td>\n      <td>2005.0</td>\n      <td>2011.0</td>\n      <td>2012.0</td>\n      <td>2010.0</td>\n    </tr>\n    <tr>\n      <th>promo2</th>\n      <td>0</td>\n      <td>1</td>\n      <td>1</td>\n      <td>1</td>\n      <td>0</td>\n    </tr>\n    <tr>\n      <th>promo2_since_week</th>\n      <td>16.0</td>\n      <td>14.0</td>\n      <td>1.0</td>\n      <td>40.0</td>\n      <td>20.0</td>\n    </tr>\n    <tr>\n      <th>promo2_since_year</th>\n      <td>2014.0</td>\n      <td>2011.0</td>\n      <td>2012.0</td>\n      <td>2014.0</td>\n      <td>2013.0</td>\n    </tr>\n    <tr>\n      <th>promo_interval</th>\n      <td>0</td>\n      <td>Jan,Apr,Jul,Oct</td>\n      <td>Jan,Apr,Jul,Oct</td>\n      <td>Jan,Apr,Jul,Oct</td>\n      <td>0</td>\n    </tr>\n    <tr>\n      <th>month_map</th>\n      <td>Apr</td>\n      <td>Sep</td>\n      <td>Sep</td>\n      <td>Fev</td>\n      <td>May</td>\n    </tr>\n    <tr>\n      <th>is_promo</th>\n      <td>0</td>\n      <td>0</td>\n      <td>0</td>\n      <td>0</td>\n      <td>0</td>\n    </tr>\n  </tbody>\n</table>\n</div>"
     },
     "execution_count": 14,
     "metadata": {},
     "output_type": "execute_result"
    }
   ],
   "source": [
    "df1.sample(5).T # transposto(inverte linha e coluna)"
   ],
   "metadata": {
    "collapsed": false,
    "pycharm": {
     "name": "#%%\n"
    }
   }
  },
  {
   "cell_type": "markdown",
   "source": [
    "## 1.6 Change Types\n",
    "    - ( sempre que a gente faz uma alteraçao nas colunas, como foi preencher os dados faltantes, a gente tem qeu checar se esta tudo ok com os tipos )"
   ],
   "metadata": {
    "collapsed": false,
    "pycharm": {
     "name": "#%% md\n"
    }
   }
  },
  {
   "cell_type": "code",
   "execution_count": 18,
   "outputs": [
    {
     "name": "stdout",
     "output_type": "stream",
     "text": [
      "store                                    int64\n",
      "day_of_week                              int64\n",
      "date                            datetime64[ns]\n",
      "sales                                    int64\n",
      "customers                                int64\n",
      "open                                     int64\n",
      "promo                                    int64\n",
      "state_holiday                           object\n",
      "school_holiday                           int64\n",
      "store_type                              object\n",
      "assortment                              object\n",
      "competition_distance                   float64\n",
      "competition_open_since_month           float64\n",
      "competition_open_since_year            float64\n",
      "promo2                                   int64\n",
      "promo2_since_week                      float64\n",
      "promo2_since_year                      float64\n",
      "promo_interval                          object\n",
      "month_map                               object\n",
      "is_promo                                 int64\n",
      "dtype: object\n"
     ]
    }
   ],
   "source": [
    "print( df1.dtypes )\n"
   ],
   "metadata": {
    "collapsed": false,
    "pycharm": {
     "name": "#%%\n"
    }
   }
  },
  {
   "cell_type": "code",
   "execution_count": 15,
   "outputs": [],
   "source": [
    "df1['competition_open_since_month'] = df1['competition_open_since_month'].astype( int )\n",
    "df1['competition_open_since_year'] = df1['competition_open_since_year'].astype( int )\n",
    "\n",
    "df1['promo2_since_week'] = df1['promo2_since_week'].astype( int )\n",
    "df1['promo2_since_year'] = df1['promo2_since_year'].astype( int )\n"
   ],
   "metadata": {
    "collapsed": false,
    "pycharm": {
     "name": "#%%\n"
    }
   }
  },
  {
   "cell_type": "markdown",
   "source": [
    "## 1.7 Descriptive Statistical"
   ],
   "metadata": {
    "collapsed": false,
    "pycharm": {
     "name": "#%% md\n"
    }
   }
  },
  {
   "cell_type": "code",
   "execution_count": 20,
   "outputs": [],
   "source": [
    "num_attributes = df1.select_dtypes( include=['int64', 'float64'] )\n",
    "cat_attributes = df1.select_dtypes( exclude=['int64', 'float64', 'datetime64[ns]'] )\n"
   ],
   "metadata": {
    "collapsed": false,
    "pycharm": {
     "name": "#%%\n"
    }
   }
  },
  {
   "cell_type": "markdown",
   "source": [
    "### 1.7.1 Numerical Attributes"
   ],
   "metadata": {
    "collapsed": false
   }
  },
  {
   "cell_type": "code",
   "execution_count": null,
   "outputs": [],
   "source": [
    "# Central Tendency -  mean, median\n",
    "ct1 = pd.DataFrame( num_attributes.apply( np.mean ) ).T\n",
    "ct2 = pd.DataFrame( num_attributes.apply( np.median ) ).T\n",
    "\n",
    "# Dispersion - std, min, max, range, skev, kurtosis\n",
    "d1 = pd.DataFrame( num_attributes.apply( np.std ) ).T # Esse T é para uma vermos melhor o dataset\n",
    "d2 = pd.DataFrame( num_attributes.apply( min() ) ).T # Esse T é para uma vermos melhor o dataset\n",
    "d3 = pd.DataFrame( num_attributes.apply( max() ) ).T # Esse T é para uma vermos melhor o dataset\n",
    "d1 = pd.DataFrame( num_attributes.apply( lambda x: x.max() - x.min() ) ).T # Esse T é para uma vermos melhor o dataset\n",
    "d1 = pd.DataFrame( num_attributes.apply( np.std ) ).T # Esse T é para uma vermos melhor o dataset\n",
    "d1 = pd.DataFrame( num_attributes.apply( np.std ) ).T # Esse T é para uma vermos melhor o dataset\n"
   ],
   "metadata": {
    "collapsed": false,
    "pycharm": {
     "name": "#%%\n"
    }
   }
  }
 ],
 "metadata": {
  "kernelspec": {
   "display_name": "Python 3",
   "language": "python",
   "name": "python3"
  },
  "language_info": {
   "codemirror_mode": {
    "name": "ipython",
    "version": 3
   },
   "file_extension": ".py",
   "mimetype": "text/x-python",
   "name": "python",
   "nbconvert_exporter": "python",
   "pygments_lexer": "ipython3",
   "version": "3.8.8"
  },
  "latex_envs": {
   "LaTeX_envs_menu_present": true,
   "autoclose": false,
   "autocomplete": true,
   "bibliofile": "biblio.bib",
   "cite_by": "apalike",
   "current_citInitial": 1,
   "eqLabelWithNumbers": true,
   "eqNumInitial": 1,
   "hotkeys": {
    "equation": "Ctrl-E",
    "itemize": "Ctrl-I"
   },
   "labels_anchors": false,
   "latex_user_defs": false,
   "report_style_numbering": false,
   "user_envs_cfg": false
  },
  "varInspector": {
   "cols": {
    "lenName": 16,
    "lenType": 16,
    "lenVar": 40
   },
   "kernels_config": {
    "python": {
     "delete_cmd_postfix": "",
     "delete_cmd_prefix": "del ",
     "library": "var_list.py",
     "varRefreshCmd": "print(var_dic_list())"
    },
    "r": {
     "delete_cmd_postfix": ") ",
     "delete_cmd_prefix": "rm(",
     "library": "var_list.r",
     "varRefreshCmd": "cat(var_dic_list()) "
    }
   },
   "types_to_exclude": [
    "module",
    "function",
    "builtin_function_or_method",
    "instance",
    "_Feature"
   ],
   "window_display": false
  }
 },
 "nbformat": 4,
 "nbformat_minor": 1
}