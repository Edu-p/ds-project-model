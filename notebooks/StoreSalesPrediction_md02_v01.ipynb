{
 "cells": [
  {
   "cell_type": "markdown",
   "metadata": {
    "pycharm": {
     "name": "#%%\n"
    }
   },
   "source": [
    "# 0.0 Imports"
   ]
  },
  {
   "cell_type": "code",
   "execution_count": 30,
   "metadata": {
    "ExecuteTime": {
     "end_time": "2021-04-19T07:23:30.050204Z",
     "start_time": "2021-04-19T07:23:30.032199Z"
    }
   },
   "outputs": [],
   "source": [
    "import pandas as pd\n",
    "# import inflection\n",
    "import math\n",
    "import numpy as np\n",
    "import seaborn as sns\n",
    "from matplotlib import pyplot as plt"
   ]
  },
  {
   "cell_type": "markdown",
   "metadata": {
    "heading_collapsed": true
   },
   "source": [
    "## 0.1. Helper Functions"
   ]
  },
  {
   "cell_type": "markdown",
   "metadata": {
    "heading_collapsed": true
   },
   "source": [
    "## 0.2.Loading data "
   ]
  },
  {
   "cell_type": "code",
   "execution_count": 31,
   "metadata": {
    "ExecuteTime": {
     "end_time": "2021-04-19T07:18:51.121874Z",
     "start_time": "2021-04-19T07:18:49.376741Z"
    },
    "hidden": true
   },
   "outputs": [],
   "source": [
    "df_sales_raw = pd.read_csv( 'C:/Users/PICHAU/Desktop/AnaliseDeDados/DsEmProd/datasets/train.csv', low_memory=False)\n",
    "df_store_raw = pd.read_csv( 'C:/Users/PICHAU/Desktop/AnaliseDeDados/DsEmProd/datasets/store.csv', low_memory=False)\n",
    "\n",
    "# merge\n",
    "df_raw = pd.merge( df_sales_raw, df_store_raw, how='left', on='Store' )"
   ]
  },
  {
   "cell_type": "markdown",
   "metadata": {},
   "source": [
    "# 1.0 Descriçao dos dados"
   ]
  },
  {
   "cell_type": "code",
   "execution_count": 32,
   "metadata": {
    "ExecuteTime": {
     "end_time": "2021-04-19T07:23:31.465306Z",
     "start_time": "2021-04-19T07:23:31.392302Z"
    },
    "code_folding": []
   },
   "outputs": [],
   "source": [
    "# Sempre que mudar de secao da um .copy(), pois ajuda quando a gente ta navegando em um notebook mt grande\n",
    "df1 = df_raw.copy()"
   ]
  },
  {
   "cell_type": "markdown",
   "metadata": {},
   "source": [
    "## 1.1. Rename Columns"
   ]
  },
  {
   "cell_type": "code",
   "execution_count": 33,
   "metadata": {
    "ExecuteTime": {
     "end_time": "2021-04-19T07:23:32.754403Z",
     "start_time": "2021-04-19T07:23:32.736403Z"
    }
   },
   "outputs": [
    {
     "data": {
      "text/plain": "Index(['Store', 'DayOfWeek', 'Date', 'Sales', 'Customers', 'Open', 'Promo',\n       'StateHoliday', 'SchoolHoliday', 'StoreType', 'Assortment',\n       'CompetitionDistance', 'CompetitionOpenSinceMonth',\n       'CompetitionOpenSinceYear', 'Promo2', 'Promo2SinceWeek',\n       'Promo2SinceYear', 'PromoInterval'],\n      dtype='object')"
     },
     "execution_count": 33,
     "metadata": {},
     "output_type": "execute_result"
    }
   ],
   "source": [
    "df1.columns\n"
   ]
  },
  {
   "cell_type": "code",
   "execution_count": 34,
   "metadata": {
    "ExecuteTime": {
     "end_time": "2021-04-19T07:23:34.520537Z",
     "start_time": "2021-04-19T07:23:34.504535Z"
    }
   },
   "outputs": [
    {
     "data": {
      "text/plain": "Index(['store', 'day_of_week', 'date', 'sales', 'customers', 'open', 'promo',\n       'state_holiday', 'school_holiday', 'store_type', 'assortment',\n       'competition_distance', 'competition_open_since_month',\n       'competition_open_since_year', 'promo2', 'promo2_since_week',\n       'promo2_since_year', 'promo_interval'],\n      dtype='object')"
     },
     "execution_count": 34,
     "metadata": {},
     "output_type": "execute_result"
    }
   ],
   "source": [
    "# cols_old = ['Store', 'DayOfWeek', 'Date', 'Sales', 'Customers', 'Open', 'Promo',\n",
    "#        'StateHoliday', 'SchoolHoliday', 'StoreType', 'Assortment',\n",
    "#        'CompetitionDistance', 'CompetitionOpenSinceMonth',\n",
    "#        'CompetitionOpenSinceYear', 'Promo2', 'Promo2SinceWeek',\n",
    "#        'Promo2SinceYear', 'PromoInterval']\n",
    "\n",
    "# snakecase = lambda x: inflection.underscore( x )\n",
    "\n",
    "# #fazer o mapeamento da nossa funçao snakecase em todas as minhas cols_old\n",
    "# cols_new = list( map( snakecase, cols_old ) )\n",
    "\n",
    "cols_new = [ 'store','day_of_week','date','sales','customers','open','promo','state_holiday','school_holiday','store_type','assortment','competition_distance','competition_open_since_month','competition_open_since_year','promo2','promo2_since_week','promo2_since_year','promo_interval' ]\n",
    "\n",
    "# renaming\n",
    "df1.columns = cols_new\n",
    "\n",
    "df1.columns"
   ]
  },
  {
   "cell_type": "markdown",
   "metadata": {},
   "source": [
    "## 1.2. Data Dimensions"
   ]
  },
  {
   "cell_type": "code",
   "execution_count": 35,
   "metadata": {
    "ExecuteTime": {
     "end_time": "2021-04-19T07:23:35.713625Z",
     "start_time": "2021-04-19T07:23:35.703625Z"
    },
    "pycharm": {
     "name": "#%%\n"
    }
   },
   "outputs": [
    {
     "name": "stdout",
     "output_type": "stream",
     "text": [
      "number of Rows: 1017209\n",
      "number of Rows: 18\n"
     ]
    }
   ],
   "source": [
    "print( 'number of Rows: {}'.format( df1.shape[0] ) )\n",
    "print( 'number of Rows: {}'.format( df1.shape[1] ) )\n"
   ]
  },
  {
   "cell_type": "markdown",
   "metadata": {},
   "source": [
    "## 1.3. Data Types"
   ]
  },
  {
   "cell_type": "code",
   "execution_count": 36,
   "metadata": {
    "ExecuteTime": {
     "end_time": "2021-04-19T07:23:37.543762Z",
     "start_time": "2021-04-19T07:23:37.112730Z"
    },
    "pycharm": {
     "name": "#%%\n"
    }
   },
   "outputs": [
    {
     "data": {
      "text/plain": "store                                    int64\nday_of_week                              int64\ndate                            datetime64[ns]\nsales                                    int64\ncustomers                                int64\nopen                                     int64\npromo                                    int64\nstate_holiday                           object\nschool_holiday                           int64\nstore_type                              object\nassortment                              object\ncompetition_distance                   float64\ncompetition_open_since_month           float64\ncompetition_open_since_year            float64\npromo2                                   int64\npromo2_since_week                      float64\npromo2_since_year                      float64\npromo_interval                          object\ndtype: object"
     },
     "execution_count": 36,
     "metadata": {},
     "output_type": "execute_result"
    }
   ],
   "source": [
    "df1['date'] = pd.to_datetime(df1['date'])\n",
    "df1.dtypes"
   ]
  },
  {
   "cell_type": "markdown",
   "metadata": {},
   "source": [
    "## 1.4. Check NA"
   ]
  },
  {
   "cell_type": "code",
   "execution_count": 37,
   "metadata": {
    "ExecuteTime": {
     "end_time": "2021-04-19T07:23:40.951018Z",
     "start_time": "2021-04-19T07:23:40.720002Z"
    },
    "pycharm": {
     "name": "#%%\n"
    }
   },
   "outputs": [
    {
     "data": {
      "text/plain": "store                                0\nday_of_week                          0\ndate                                 0\nsales                                0\ncustomers                            0\nopen                                 0\npromo                                0\nstate_holiday                        0\nschool_holiday                       0\nstore_type                           0\nassortment                           0\ncompetition_distance              2642\ncompetition_open_since_month    323348\ncompetition_open_since_year     323348\npromo2                               0\npromo2_since_week               508031\npromo2_since_year               508031\npromo_interval                  508031\ndtype: int64"
     },
     "execution_count": 37,
     "metadata": {},
     "output_type": "execute_result"
    }
   ],
   "source": [
    "df1.isna().sum()"
   ]
  },
  {
   "cell_type": "markdown",
   "metadata": {},
   "source": [
    "## 1.5. Fillout NA"
   ]
  },
  {
   "cell_type": "code",
   "execution_count": 38,
   "metadata": {
    "ExecuteTime": {
     "start_time": "2021-04-19T07:24:48.506Z"
    },
    "pycharm": {
     "name": "#%%\n"
    }
   },
   "outputs": [],
   "source": [
    "# # competition_distance( vamos supor que ta na pq a distancia é mt grande de outra loja )\n",
    "# df1['competition_distance'] = df1['competition_distance'].apply( lambda x: (df1['competition_distance'].max())*10 if math.isnan( x ) else x )\n",
    "#\n",
    "#\n",
    "# # competition_open_since_month( vamos copiar a data de venda da loja para essa coluna )\n",
    "# df1['competition_open_since_month'] = df1.apply ( lambda x: x['date'].month if math.isnan( x['competition_open_since_month'] ) else x['competition_open_since_month'], axis=1 )\n",
    "#\n",
    "#\n",
    "# # competition_open_since_year\n",
    "# df1['competition_open_since_year'] = df1.apply ( lambda x: x['date'].year if math.isnan( x['competition_open_since_year'] ) else x['competition_open_since_year'], axis=1 )\n",
    "#\n",
    "#\n",
    "# # promo2_since_week\n",
    "# df1['promo2_since_week'] = df1.apply ( lambda x: x['date'].week if math.isnan( x['promo2_since_week'] ) else x['promo2_since_week'], axis=1 )\n",
    "#\n",
    "#\n",
    "#\n",
    "# # promo2_since_year\n",
    "# df1['promo2_since_year'] = df1.apply ( lambda x: x['date'].year if math.isnan( x['promo2_since_year'] ) else x['promo2_since_year'], axis=1 )\n",
    "#\n",
    "# # promo_interval\n",
    "# month_map = {1: 'Jan',  2: 'Fev',  3: 'Mar',  4: 'Apr',  5: 'May',  6: 'Jun',  7: 'Jul',  8: 'Aug',  9: 'Sep',  10: 'Oct', 11: 'Nov', 12: 'Dec'}\n",
    "#\n",
    "# df1['promo_interval'].fillna(0, inplace=True )\n",
    "#\n",
    "# df1['month_map'] = df1['date'].dt.month.map( month_map )\n",
    "#\n",
    "# df1['is_promo'] = df1[['promo_interval', 'month_map']].apply( lambda x: 0 if x['promo_interval'] == 0 else 1 if x['month_map'] in x['promo_interval'].split( ',' ) else 0, axis=1 )"
   ]
  },
  {
   "cell_type": "code",
   "execution_count": 39,
   "metadata": {
    "ExecuteTime": {
     "start_time": "2021-04-19T07:24:50.583Z"
    },
    "pycharm": {
     "name": "#%%\n"
    }
   },
   "outputs": [
    {
     "data": {
      "text/plain": "store                                0\nday_of_week                          0\ndate                                 0\nsales                                0\ncustomers                            0\nopen                                 0\npromo                                0\nstate_holiday                        0\nschool_holiday                       0\nstore_type                           0\nassortment                           0\ncompetition_distance              2642\ncompetition_open_since_month    323348\ncompetition_open_since_year     323348\npromo2                               0\npromo2_since_week               508031\npromo2_since_year               508031\npromo_interval                  508031\ndtype: int64"
     },
     "execution_count": 39,
     "metadata": {},
     "output_type": "execute_result"
    }
   ],
   "source": [
    "\n",
    "df1.isna().sum()"
   ]
  },
  {
   "cell_type": "code",
   "execution_count": 40,
   "metadata": {
    "ExecuteTime": {
     "start_time": "2021-04-19T07:24:52.087Z"
    },
    "pycharm": {
     "name": "#%%\n"
    }
   },
   "outputs": [
    {
     "data": {
      "text/plain": "75860.0"
     },
     "execution_count": 40,
     "metadata": {},
     "output_type": "execute_result"
    }
   ],
   "source": [
    "df1['competition_distance'].max()"
   ]
  },
  {
   "cell_type": "code",
   "execution_count": 41,
   "metadata": {
    "ExecuteTime": {
     "start_time": "2021-04-19T07:24:52.958Z"
    },
    "pycharm": {
     "name": "#%%\n"
    }
   },
   "outputs": [
    {
     "data": {
      "text/plain": "                                           577869               14171   \\\nstore                                        1085                  792   \nday_of_week                                     4                    7   \ndate                          2014-01-30 00:00:00  2015-07-19 00:00:00   \nsales                                        6467                    0   \ncustomers                                     693                    0   \nopen                                            1                    0   \npromo                                           0                    0   \nstate_holiday                                   0                    0   \nschool_holiday                                  0                    0   \nstore_type                                      c                    d   \nassortment                                      a                    a   \ncompetition_distance                       4030.0              17280.0   \ncompetition_open_since_month                  2.0                 10.0   \ncompetition_open_since_year                2015.0               2009.0   \npromo2                                          0                    1   \npromo2_since_week                             NaN                 18.0   \npromo2_since_year                             NaN               2011.0   \npromo_interval                                NaN      Feb,May,Aug,Nov   \n\n                                           250701               48427   \\\nstore                                         357                  483   \nday_of_week                                     2                    4   \ndate                          2014-12-16 00:00:00  2015-06-18 00:00:00   \nsales                                       11875                 5683   \ncustomers                                    1284                  712   \nopen                                            1                    1   \npromo                                           1                    1   \nstate_holiday                                   0                    0   \nschool_holiday                                  0                    0   \nstore_type                                      a                    a   \nassortment                                      a                    c   \ncompetition_distance                       2060.0               2310.0   \ncompetition_open_since_month                 10.0                  9.0   \ncompetition_open_since_year                2008.0               2011.0   \npromo2                                          0                    1   \npromo2_since_week                             NaN                 13.0   \npromo2_since_year                             NaN               2010.0   \npromo_interval                                NaN      Jan,Apr,Jul,Oct   \n\n                                           914052  \nstore                                         538  \nday_of_week                                     3  \ndate                          2013-04-03 00:00:00  \nsales                                        3638  \ncustomers                                     566  \nopen                                            1  \npromo                                           0  \nstate_holiday                                   0  \nschool_holiday                                  1  \nstore_type                                      a  \nassortment                                      a  \ncompetition_distance                        990.0  \ncompetition_open_since_month                  2.0  \ncompetition_open_since_year                2010.0  \npromo2                                          0  \npromo2_since_week                             NaN  \npromo2_since_year                             NaN  \npromo_interval                                NaN  ",
      "text/html": "<div>\n<style scoped>\n    .dataframe tbody tr th:only-of-type {\n        vertical-align: middle;\n    }\n\n    .dataframe tbody tr th {\n        vertical-align: top;\n    }\n\n    .dataframe thead th {\n        text-align: right;\n    }\n</style>\n<table border=\"1\" class=\"dataframe\">\n  <thead>\n    <tr style=\"text-align: right;\">\n      <th></th>\n      <th>577869</th>\n      <th>14171</th>\n      <th>250701</th>\n      <th>48427</th>\n      <th>914052</th>\n    </tr>\n  </thead>\n  <tbody>\n    <tr>\n      <th>store</th>\n      <td>1085</td>\n      <td>792</td>\n      <td>357</td>\n      <td>483</td>\n      <td>538</td>\n    </tr>\n    <tr>\n      <th>day_of_week</th>\n      <td>4</td>\n      <td>7</td>\n      <td>2</td>\n      <td>4</td>\n      <td>3</td>\n    </tr>\n    <tr>\n      <th>date</th>\n      <td>2014-01-30 00:00:00</td>\n      <td>2015-07-19 00:00:00</td>\n      <td>2014-12-16 00:00:00</td>\n      <td>2015-06-18 00:00:00</td>\n      <td>2013-04-03 00:00:00</td>\n    </tr>\n    <tr>\n      <th>sales</th>\n      <td>6467</td>\n      <td>0</td>\n      <td>11875</td>\n      <td>5683</td>\n      <td>3638</td>\n    </tr>\n    <tr>\n      <th>customers</th>\n      <td>693</td>\n      <td>0</td>\n      <td>1284</td>\n      <td>712</td>\n      <td>566</td>\n    </tr>\n    <tr>\n      <th>open</th>\n      <td>1</td>\n      <td>0</td>\n      <td>1</td>\n      <td>1</td>\n      <td>1</td>\n    </tr>\n    <tr>\n      <th>promo</th>\n      <td>0</td>\n      <td>0</td>\n      <td>1</td>\n      <td>1</td>\n      <td>0</td>\n    </tr>\n    <tr>\n      <th>state_holiday</th>\n      <td>0</td>\n      <td>0</td>\n      <td>0</td>\n      <td>0</td>\n      <td>0</td>\n    </tr>\n    <tr>\n      <th>school_holiday</th>\n      <td>0</td>\n      <td>0</td>\n      <td>0</td>\n      <td>0</td>\n      <td>1</td>\n    </tr>\n    <tr>\n      <th>store_type</th>\n      <td>c</td>\n      <td>d</td>\n      <td>a</td>\n      <td>a</td>\n      <td>a</td>\n    </tr>\n    <tr>\n      <th>assortment</th>\n      <td>a</td>\n      <td>a</td>\n      <td>a</td>\n      <td>c</td>\n      <td>a</td>\n    </tr>\n    <tr>\n      <th>competition_distance</th>\n      <td>4030.0</td>\n      <td>17280.0</td>\n      <td>2060.0</td>\n      <td>2310.0</td>\n      <td>990.0</td>\n    </tr>\n    <tr>\n      <th>competition_open_since_month</th>\n      <td>2.0</td>\n      <td>10.0</td>\n      <td>10.0</td>\n      <td>9.0</td>\n      <td>2.0</td>\n    </tr>\n    <tr>\n      <th>competition_open_since_year</th>\n      <td>2015.0</td>\n      <td>2009.0</td>\n      <td>2008.0</td>\n      <td>2011.0</td>\n      <td>2010.0</td>\n    </tr>\n    <tr>\n      <th>promo2</th>\n      <td>0</td>\n      <td>1</td>\n      <td>0</td>\n      <td>1</td>\n      <td>0</td>\n    </tr>\n    <tr>\n      <th>promo2_since_week</th>\n      <td>NaN</td>\n      <td>18.0</td>\n      <td>NaN</td>\n      <td>13.0</td>\n      <td>NaN</td>\n    </tr>\n    <tr>\n      <th>promo2_since_year</th>\n      <td>NaN</td>\n      <td>2011.0</td>\n      <td>NaN</td>\n      <td>2010.0</td>\n      <td>NaN</td>\n    </tr>\n    <tr>\n      <th>promo_interval</th>\n      <td>NaN</td>\n      <td>Feb,May,Aug,Nov</td>\n      <td>NaN</td>\n      <td>Jan,Apr,Jul,Oct</td>\n      <td>NaN</td>\n    </tr>\n  </tbody>\n</table>\n</div>"
     },
     "execution_count": 41,
     "metadata": {},
     "output_type": "execute_result"
    }
   ],
   "source": [
    "df1.sample(5).T # transposto(inverte linha e coluna)"
   ]
  },
  {
   "cell_type": "markdown",
   "metadata": {
    "pycharm": {
     "name": "#%% md\n"
    }
   },
   "source": [
    "## 1.6 Change Types\n",
    "    - ( sempre que a gente faz uma alteraçao nas colunas, como foi preencher os dados faltantes, a gente tem qeu checar se esta tudo ok com os tipos )"
   ]
  },
  {
   "cell_type": "code",
   "execution_count": 42,
   "metadata": {
    "ExecuteTime": {
     "start_time": "2021-04-19T07:24:54.574Z"
    },
    "pycharm": {
     "name": "#%%\n"
    }
   },
   "outputs": [
    {
     "name": "stdout",
     "output_type": "stream",
     "text": [
      "store                                    int64\n",
      "day_of_week                              int64\n",
      "date                            datetime64[ns]\n",
      "sales                                    int64\n",
      "customers                                int64\n",
      "open                                     int64\n",
      "promo                                    int64\n",
      "state_holiday                           object\n",
      "school_holiday                           int64\n",
      "store_type                              object\n",
      "assortment                              object\n",
      "competition_distance                   float64\n",
      "competition_open_since_month           float64\n",
      "competition_open_since_year            float64\n",
      "promo2                                   int64\n",
      "promo2_since_week                      float64\n",
      "promo2_since_year                      float64\n",
      "promo_interval                          object\n",
      "dtype: object\n"
     ]
    }
   ],
   "source": [
    "print( df1.dtypes )\n"
   ]
  },
  {
   "cell_type": "code",
   "execution_count": 43,
   "metadata": {
    "ExecuteTime": {
     "start_time": "2021-04-19T07:24:55.470Z"
    },
    "pycharm": {
     "name": "#%%\n"
    }
   },
   "outputs": [],
   "source": [
    "df1['competition_open_since_month'] = df1['competition_open_since_month'].astype( int )\n",
    "df1['competition_open_since_year'] = df1['competition_open_since_year'].astype( int )\n",
    "\n",
    "df1['promo2_since_week'] = df1['promo2_since_week'].astype( int )\n",
    "df1['promo2_since_year'] = df1['promo2_since_year'].astype( int )\n"
   ]
  },
  {
   "cell_type": "markdown",
   "metadata": {
    "pycharm": {
     "name": "#%% md\n"
    }
   },
   "source": [
    "## 1.7 Descriptive Statistical"
   ]
  },
  {
   "cell_type": "code",
   "execution_count": 44,
   "metadata": {
    "ExecuteTime": {
     "start_time": "2021-04-19T07:24:57.358Z"
    },
    "pycharm": {
     "name": "#%%\n"
    }
   },
   "outputs": [],
   "source": [
    "num_attributes = df1.select_dtypes( include=['int64', 'float64'] )\n",
    "cat_attributes = df1.select_dtypes( exclude=['int64', 'float64', 'datetime64[ns]'] )\n"
   ]
  },
  {
   "cell_type": "markdown",
   "metadata": {},
   "source": [
    "### 1.7.1 Numerical Attributes"
   ]
  },
  {
   "cell_type": "code",
   "execution_count": 45,
   "metadata": {
    "ExecuteTime": {
     "start_time": "2021-04-19T07:24:58.486Z"
    },
    "pycharm": {
     "name": "#%%\n"
    }
   },
   "outputs": [],
   "source": [
    "# Central Tendency -  mean, median\n",
    "ct1 = pd.DataFrame( num_attributes.apply( np.mean ) ).T\n",
    "ct2 = pd.DataFrame( num_attributes.apply( np.median ) ).T\n",
    "\n",
    "# Dispersion - std, min, max, range, skev, kurtosis\n",
    "d1 = pd.DataFrame( num_attributes.apply( np.std ) ).T # Esse T é para uma vermos melhor o dataset\n",
    "d2 = pd.DataFrame( num_attributes.apply( min ) ).T # Esse T é para uma vermos melhor o dataset\n",
    "d3 = pd.DataFrame( num_attributes.apply( max ) ).T # Esse T é para uma vermos melhor o dataset\n",
    "d4 = pd.DataFrame( num_attributes.apply( lambda x: x.max() - x.min() ) ).T # Esse T é para uma vermos melhor o dataset\n",
    "d5 = pd.DataFrame( num_attributes.apply( lambda x: x.skew() ) ).T # Esse T é para uma vermos melhor o dataset\n",
    "d6 = pd.DataFrame( num_attributes.apply( lambda x: x.kurtosis ) ).T # Esse T é para uma vermos melhor o dataset\n",
    "\n",
    "# concatenate\n",
    "dfDesc = pd.concat( [ d2, d3, d4, ct1, ct2, d1, d5, d4 ] ).T.reset_index()\n",
    "\n",
    "dfDesc.columns = ['attributes', 'min', 'max', 'range', 'mean', 'median', 'std', 'skew', 'kurtosis']"
   ]
  },
  {
   "cell_type": "code",
   "execution_count": 46,
   "metadata": {
    "ExecuteTime": {
     "start_time": "2021-04-19T07:23:52.846Z"
    },
    "pycharm": {
     "name": "#%%\n"
    }
   },
   "outputs": [
    {
     "name": "stdout",
     "output_type": "stream",
     "text": [
      "                      attributes     min      max    range         mean  \\\n",
      "0                          store     1.0   1115.0   1114.0   558.429727   \n",
      "1                    day_of_week     1.0      7.0      6.0     3.998341   \n",
      "2                          sales     0.0  41551.0  41551.0  5773.818972   \n",
      "3                      customers     0.0   7388.0   7388.0   633.145946   \n",
      "4                           open     0.0      1.0      1.0     0.830107   \n",
      "5                          promo     0.0      1.0      1.0     0.381515   \n",
      "6                 school_holiday     0.0      1.0      1.0     0.178647   \n",
      "7           competition_distance    20.0  75860.0  75840.0  5430.085652   \n",
      "8   competition_open_since_month     1.0     12.0     11.0     7.222866   \n",
      "9    competition_open_since_year  1900.0   2015.0    115.0  2008.690228   \n",
      "10                        promo2     0.0      1.0      1.0     0.500564   \n",
      "11             promo2_since_week     NaN      NaN     49.0    23.269093   \n",
      "12             promo2_since_year     NaN      NaN      6.0  2011.752774   \n",
      "\n",
      "    median          std      skew  kurtosis  \n",
      "0    558.0   321.908493 -0.000955    1114.0  \n",
      "1      4.0     1.997390  0.001593       6.0  \n",
      "2   5744.0  3849.924283  0.641460   41551.0  \n",
      "3    609.0   464.411506  1.598650    7388.0  \n",
      "4      1.0     0.375539 -1.758045       1.0  \n",
      "5      0.0     0.485758  0.487838       1.0  \n",
      "6      0.0     0.383056  1.677842       1.0  \n",
      "7      NaN  7715.319898  2.928534   75840.0  \n",
      "8      NaN     3.211830 -0.169862      11.0  \n",
      "9      NaN     5.992640 -7.539515     115.0  \n",
      "10     1.0     0.500000 -0.002255       1.0  \n",
      "11     NaN    14.095959  0.104528      49.0  \n",
      "12     NaN     1.662869 -0.120060       6.0  \n"
     ]
    }
   ],
   "source": [
    "print(dfDesc)"
   ]
  },
  {
   "cell_type": "code",
   "execution_count": 47,
   "metadata": {
    "ExecuteTime": {
     "start_time": "2021-04-19T07:23:53.533Z"
    },
    "pycharm": {
     "name": "#%%\n"
    }
   },
   "outputs": [
    {
     "name": "stderr",
     "output_type": "stream",
     "text": [
      "c:\\users\\pichau\\desktop\\analisededados\\meigaromdsemprod\\venv\\lib\\site-packages\\seaborn\\distributions.py:2557: FutureWarning: `distplot` is a deprecated function and will be removed in a future version. Please adapt your code to use either `displot` (a figure-level function with similar flexibility) or `histplot` (an axes-level function for histograms).\n",
      "  warnings.warn(msg, FutureWarning)\n"
     ]
    },
    {
     "data": {
      "text/plain": "<AxesSubplot:xlabel='competition_distance', ylabel='Density'>"
     },
     "execution_count": 47,
     "metadata": {},
     "output_type": "execute_result"
    },
    {
     "data": {
      "text/plain": "<Figure size 432x288 with 1 Axes>",
      "image/png": "[encoded data removed]"
     },
     "metadata": {
      "needs_background": "light"
     },
     "output_type": "display_data"
    }
   ],
   "source": [
    "sns.distplot( df1['competition_distance'] )"
   ]
  },
  {
   "cell_type": "markdown",
   "metadata": {},
   "source": [
    "### 1.7.2 Categorical Attributes"
   ]
  },
  {
   "cell_type": "code",
   "execution_count": 48,
   "metadata": {
    "ExecuteTime": {
     "start_time": "2021-04-19T07:23:54.869Z"
    },
    "pycharm": {
     "name": "#%%\n"
    }
   },
   "outputs": [],
   "source": [
    "# cat_attributes.apply( lambda x: x.unique.shape[0] )"
   ]
  },
  {
   "cell_type": "code",
   "execution_count": 49,
   "metadata": {
    "ExecuteTime": {
     "start_time": "2021-04-19T07:23:55.613Z"
    },
    "pycharm": {
     "name": "#%%\n"
    }
   },
   "outputs": [
    {
     "data": {
      "text/plain": "<AxesSubplot:xlabel='store_type', ylabel='sales'>"
     },
     "execution_count": 49,
     "metadata": {},
     "output_type": "execute_result"
    },
    {
     "data": {
      "text/plain": "<Figure size 432x288 with 2 Axes>",
      "image/png": "[encoded data removed]"
     },
     "metadata": {
      "needs_background": "light"
     },
     "output_type": "display_data"
    }
   ],
   "source": [
    "aux1 = df1[ ( df1['state_holiday'] != '0' ) & ( df1['sales'] > 0 )] # para tirar os que nao tem vendas ou nao tem estaçao\n",
    "\n",
    "plt.subplot( 1,3,1 )\n",
    "sns.boxplot( x='state_holiday' , y='sales' , data=aux1 )\n",
    "\n",
    "plt.subplot( 1,3,3 )\n",
    "sns.boxplot( x='store_type' , y='sales' , data=aux1 )\n",
    "\n",
    "# plt.subplot( 1,3,2 )\n",
    "# sns.boxplot( x='assortment' , y='sales' , data=aux1 )\n",
    "\n",
    "#o grafico é dividido em quartis, senod o do meio o 75  e25, a linha representa a mediana quartil 50\n",
    "# video do meigarom representa mt bem o que a  gente deve olhar quando ver esse tipo de grafico\n",
    "# modulo 2 , video 3\n"
   ]
  }
 ],
 "metadata": {
  "kernelspec": {
   "display_name": "Python 3",
   "language": "python",
   "name": "python3"
  },
  "latex_envs": {
   "LaTeX_envs_menu_present": true,
   "autoclose": false,
   "autocomplete": true,
   "bibliofile": "biblio.bib",
   "cite_by": "apalike",
   "current_citInitial": 1,
   "eqLabelWithNumbers": true,
   "eqNumInitial": 1,
   "hotkeys": {
    "equation": "Ctrl-E",
    "itemize": "Ctrl-I"
   },
   "labels_anchors": false,
   "latex_user_defs": false,
   "report_style_numbering": false,
   "user_envs_cfg": false
  },
  "varInspector": {
   "cols": {
    "lenName": 16,
    "lenType": 16,
    "lenVar": 40
   },
   "kernels_config": {
    "python": {
     "delete_cmd_postfix": "",
     "delete_cmd_prefix": "del ",
     "library": "var_list.py",
     "varRefreshCmd": "print(var_dic_list())"
    },
    "r": {
     "delete_cmd_postfix": ") ",
     "delete_cmd_prefix": "rm(",
     "library": "var_list.r",
     "varRefreshCmd": "cat(var_dic_list()) "
    }
   },
   "types_to_exclude": [
    "module",
    "function",
    "builtin_function_or_method",
    "instance",
    "_Feature"
   ],
   "window_display": false
  }
 },
 "nbformat": 4,
 "nbformat_minor": 1
}